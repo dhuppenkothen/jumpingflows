{
 "cells": [
  {
   "cell_type": "markdown",
   "id": "4635fbb3",
   "metadata": {},
   "source": [
    "# Building a Network for the number of Components $K$\n",
    "\n",
    "We want to build a network to learn the relationship between data and the number of components $K$ that make up the data. "
   ]
  },
  {
   "cell_type": "code",
   "execution_count": null,
   "id": "aa0dbc58",
   "metadata": {
    "scrolled": true
   },
   "outputs": [],
   "source": [
    "%matplotlib notebook\n",
    "import matplotlib.pyplot as plt\n",
    "import sys\n",
    "import os\n",
    "from pathlib import Path\n",
    "\n",
    "root = Path(os.getcwd()).parent\n",
    "sys.path.append(str((root / \"code\").resolve()))\n",
    "\n",
    "import seaborn as sns\n",
    "sns.set_style(\"whitegrid\")\n",
    "\n",
    "import numpy as np\n",
    "\n",
    "import torch\n",
    "\n",
    "from torch_geometric.data import Data\n",
    "from torch_geometric.utils import to_dense_batch"
   ]
  },
  {
   "cell_type": "markdown",
   "id": "113fe1ee",
   "metadata": {},
   "source": [
    "## Simplifying the Problem\n",
    "\n",
    "I'm going to simplify the problem somewhat: a background parameter + two parameters per component (amplitude and position), and I'm also going to set the maximum number of $K$ to 5. \n",
    "\n",
    "Let's write a function to do that: "
   ]
  },
  {
   "cell_type": "code",
   "execution_count": null,
   "id": "368fd134",
   "metadata": {
    "scrolled": true
   },
   "outputs": [],
   "source": [
    "from generate_data import simulate_burst"
   ]
  },
  {
   "cell_type": "code",
   "execution_count": null,
   "id": "5d51f252",
   "metadata": {},
   "outputs": [],
   "source": [
    "def simulate_burst_simple(time, ncomp, burstparams, return_model=False):\n",
    "    \"\"\"\n",
    "    Simpler version of the the `simulate_burst` function \n",
    "    with fewer parameters. \n",
    "    \n",
    "    We will set rise time, skewness and backgroung flux \n",
    "    to a constant value, which only leaves the peak time \n",
    "    and the amplitude as free parameters.\n",
    "\n",
    "    **Important**: The amplitude in `burstparams` is defined \n",
    "    as a **log(amplitude)**, in contrast to the original \n",
    "    `generate_data` function, to make sampling easier.\n",
    "    \n",
    "    Parameters\n",
    "    ---------\n",
    "    time : numpy.ndarray\n",
    "        The array of time stamps for which to compute \n",
    "        the model\n",
    "        \n",
    "    ncomp : int\n",
    "        The number of `twoexp` components to include \n",
    "        in the sum\n",
    "\n",
    "    burstparams : iterable\n",
    "        An array containing the parameters for the \n",
    "        `twoexp` model. Flat array of the form\n",
    "        `[t0_1, ..., t0_K, log(amp_1), ..., log(amp_K)]`\n",
    "          \n",
    "    ybkg : float\n",
    "        The background flux\n",
    "        \n",
    "    return_model : bool, default False\n",
    "        If True, return the model flux (without Poisson\n",
    "        counts) along with the Poisson-drawn model \n",
    "        counts. If False, just contain the Poisson counts\n",
    "\n",
    "    Returns\n",
    "    -------\n",
    "    ycounts : numpy.ndarray\n",
    "        An array of the same size of $t$, returning the \n",
    "        model counts    \n",
    "    \"\"\"\n",
    "    # set the fixed parameters for the simplified model\n",
    "    ybkg = 10.0\n",
    "    rise = np.ones(ncomp) * 0.02\n",
    "    skew = np.ones(ncomp) * 3.0\n",
    "    \n",
    "    t0 = burstparams[:ncomp]\n",
    "    amp = burstparams[ncomp:]\n",
    "    \n",
    "    burstparams_full = np.hstack([burstparams, rise, skew])\n",
    "    \n",
    "    if return_model:\n",
    "        ym, ycounts = simulate_burst(time, ncomp, burstparams_full, ybkg, return_model=return_model)\n",
    "        return ym, ycounts\n",
    "    \n",
    "    else: \n",
    "        ycounts = simulate_burst(time, ncomp, burstparams_full, ybkg, return_model=return_model)\n",
    "        return ycounts\n",
    "\n",
    "    "
   ]
  },
  {
   "cell_type": "markdown",
   "id": "0f1fa6c6",
   "metadata": {},
   "source": [
    "Okay, cool, next let's define some global parameters and some priors."
   ]
  },
  {
   "cell_type": "code",
   "execution_count": null,
   "id": "870b3479",
   "metadata": {},
   "outputs": [],
   "source": [
    "tstart = 0.0\n",
    "tend = 1.0\n",
    "nsteps = 1000\n",
    "\n",
    "time = np.linspace(tstart, tend, nsteps)\n",
    "dt = time[1] - time[0]\n",
    "\n",
    "ybkg = 10.0\n",
    "\n",
    "kmax = 5 # maximum number of components\n",
    "\n",
    "# uniform prior on log-amplitude minimum \n",
    "# and maximum\n",
    "log_amin = np.log(ybkg/2.0) \n",
    "log_amax = np.log(20*ybkg)\n",
    "\n",
    "# uniform prior on peak time minimum \n",
    "# and maximum\n",
    "tmin = tstart+0.1 #\n",
    "tmax = tend - 0.1"
   ]
  },
  {
   "cell_type": "markdown",
   "id": "a694ff32",
   "metadata": {},
   "source": [
    "Now we can use these to sample parameters from the prior:"
   ]
  },
  {
   "cell_type": "code",
   "execution_count": null,
   "id": "e1bf874e",
   "metadata": {},
   "outputs": [],
   "source": [
    "nsims = 100000 # number of simulations to produce\n",
    "\n",
    "# first, sample number of components in each simulation\n",
    "k_all = np.random.randint(1, kmax+1, size=nsims)\n",
    "\n",
    "# now loop over components and generate burst parameters \n",
    "# and data:\n",
    "ymodel_all = np.zeros((nsims, time.shape[0]))\n",
    "ycounts_all = np.zeros((nsims, time.shape[0]))\n",
    "burstparams_all = []\n",
    "\n",
    "for i, k in enumerate(k_all):\n",
    "    log_amp = np.random.uniform(log_amin, log_amax, size=k)\n",
    "    t0 = np.random.uniform(tmin, tmax, size=k)\n",
    "    \n",
    "    burstparams = np.hstack([t0, np.exp(log_amp)])\n",
    "    burstparams_all.append(burstparams)\n",
    "    \n",
    "    ym, yc = simulate_burst_simple(time, k, burstparams, return_model=True)\n",
    "    ymodel_all[i,:] = ym\n",
    "    ycounts_all[i,:] = yc"
   ]
  },
  {
   "cell_type": "code",
   "execution_count": null,
   "id": "4910bc40",
   "metadata": {},
   "outputs": [],
   "source": [
    "(root / \"data\").mkdir(exist_ok=True)\n",
    "np.savetxt(root / \"data/jumpingflows_simplified_bursts_data.dat\", ycounts_all)\n",
    "np.savetxt(root / \"data/jumpingflows_simplified_bursts_k.dat\", k_all)\n",
    "# TODO: save burstparams_all"
   ]
  },
  {
   "cell_type": "code",
   "execution_count": null,
   "id": "9195a9b5",
   "metadata": {},
   "outputs": [],
   "source": [
    "fig, axes = plt.subplots(3, 3, figsize=(10, 10))\n",
    "\n",
    "axes = np.hstack(axes)\n",
    "\n",
    "for i, ax in enumerate(axes):\n",
    "    ax.plot(time, ycounts_all[i,:], color=\"black\", label=\"Poisson model counts\")\n",
    "    ax.plot(time, ymodel_all[i,:], color=\"orange\", label=\"Noise-free model\")\n",
    "    ax.set_xlabel(\"Time [arbitrary units]\")\n",
    "    ax.set_ylabel(\"Flux [arbitrary units]\")\n",
    "    ax.set_xlim(time[0], time[-1]);\n",
    "    if i == 0:\n",
    "        ax.legend();"
   ]
  },
  {
   "cell_type": "code",
   "execution_count": null,
   "id": "34739f0f",
   "metadata": {},
   "outputs": [],
   "source": [
    "from torch.utils.data import Dataset\n",
    "\n",
    "class BurstDataset(Dataset):\n",
    "    def __init__(self, ncomp, data, transform=None, target_transform=None):\n",
    "        self.ncomp = ncomp\n",
    "        self.data = data\n",
    "        self.transform = transform\n",
    "        self.target_transform = target_transform\n",
    "\n",
    "    def __len__(self):\n",
    "        return len(self.ncomp)\n",
    "\n",
    "    def __getitem__(self, idx):\n",
    "        theta = self.ncomp[idx]\n",
    "        data = self.data[idx]\n",
    "        \n",
    "        if self.transform:\n",
    "            data = self.transform(data)\n",
    "        if self.target_transform:\n",
    "            theta = self.target_transform(theta)\n",
    "        return theta, data"
   ]
  },
  {
   "cell_type": "code",
   "execution_count": null,
   "id": "84655e85",
   "metadata": {},
   "outputs": [],
   "source": [
    "Xtrain = BurstDataset(k_all, ycounts_all)"
   ]
  },
  {
   "cell_type": "code",
   "execution_count": null,
   "id": "be05cf98",
   "metadata": {},
   "outputs": [],
   "source": [
    "from torch import nn"
   ]
  },
  {
   "cell_type": "code",
   "execution_count": null,
   "id": "1114b40d",
   "metadata": {},
   "outputs": [],
   "source": [
    "class NeuralNetwork(nn.Module):\n",
    "    def __init__(self):\n",
    "        super().__init__()\n",
    "        self.linear_relu_stack = nn.Sequential(\n",
    "        nn.Linear(1000, 512),\n",
    "        nn.ReLU(),\n",
    "        nn.Linear(512, 128),\n",
    "        nn.ReLU(),\n",
    "        nn.Linear(128, 1),\n",
    "        )\n",
    "\n",
    "    def forward(self, x):\n",
    "        logits = self.linear_relu_stack(x)\n",
    "        return logits\n"
   ]
  },
  {
   "cell_type": "code",
   "execution_count": null,
   "id": "e5075f4a",
   "metadata": {},
   "outputs": [],
   "source": [
    "model = NeuralNetwork()"
   ]
  },
  {
   "cell_type": "code",
   "execution_count": null,
   "id": "7466a6b3",
   "metadata": {},
   "outputs": [],
   "source": [
    "X = torch.rand(1000, 1)\n",
    "logits = model(X)\n",
    "\n",
    "fig, ax = plt.subplots(1, 1, figsize=(8,4))\n",
    "ax.plot(x, logits.detach().numpy().T)"
   ]
  },
  {
   "cell_type": "code",
   "execution_count": null,
   "id": "0151d012",
   "metadata": {},
   "outputs": [],
   "source": [
    "learning_rate = 1e-03\n",
    "batch_size = 512\n",
    "epochs = 100\n",
    "\n",
    "loss_fn = nn.MSELoss()\n",
    "model.double()"
   ]
  },
  {
   "cell_type": "code",
   "execution_count": null,
   "id": "eab80bab",
   "metadata": {},
   "outputs": [],
   "source": [
    "from torch.utils.data import DataLoader"
   ]
  },
  {
   "cell_type": "code",
   "execution_count": null,
   "id": "f3f535dd",
   "metadata": {},
   "outputs": [],
   "source": [
    "optimizer = torch.optim.Adam(model.parameters(), lr = learning_rate)\n",
    "\n",
    "train_dataloader = DataLoader(Xtrain, batch_size=512, shuffle=True)\n"
   ]
  },
  {
   "cell_type": "code",
   "execution_count": null,
   "id": "e7d73d1b",
   "metadata": {},
   "outputs": [],
   "source": []
  }
 ],
 "metadata": {
  "kernelspec": {
   "display_name": "Python 3 (ipykernel)",
   "language": "python",
   "name": "python3"
  },
  "language_info": {
   "codemirror_mode": {
    "name": "ipython",
    "version": 3
   },
   "file_extension": ".py",
   "mimetype": "text/x-python",
   "name": "python",
   "nbconvert_exporter": "python",
   "pygments_lexer": "ipython3",
   "version": "3.11.4"
  }
 },
 "nbformat": 4,
 "nbformat_minor": 5
}
